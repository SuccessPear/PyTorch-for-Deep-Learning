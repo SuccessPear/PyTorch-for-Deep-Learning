{
 "cells": [
  {
   "cell_type": "markdown",
   "metadata": {},
   "source": [
    "# Pytorch Workflow"
   ]
  },
  {
   "cell_type": "code",
   "execution_count": 1,
   "metadata": {},
   "outputs": [
    {
     "data": {
      "text/plain": [
       "'2.2.2'"
      ]
     },
     "execution_count": 1,
     "metadata": {},
     "output_type": "execute_result"
    }
   ],
   "source": [
    "import torch\n",
    "from torch import nn ## nn contains all of PyTorch's building blocks for neural network\n",
    "import matplotlib.pyplot as plt\n",
    "\n",
    "# Check PyTorch version\n",
    "torch.__version__"
   ]
  },
  {
   "cell_type": "markdown",
   "metadata": {},
   "source": [
    "## 1. Data preparation"
   ]
  },
  {
   "cell_type": "code",
   "execution_count": 2,
   "metadata": {},
   "outputs": [
    {
     "data": {
      "text/plain": [
       "(tensor([[0.0000],\n",
       "         [0.0200],\n",
       "         [0.0400],\n",
       "         [0.0600],\n",
       "         [0.0800],\n",
       "         [0.1000],\n",
       "         [0.1200],\n",
       "         [0.1400],\n",
       "         [0.1600],\n",
       "         [0.1800]]),\n",
       " tensor([[0.3000],\n",
       "         [0.3140],\n",
       "         [0.3280],\n",
       "         [0.3420],\n",
       "         [0.3560],\n",
       "         [0.3700],\n",
       "         [0.3840],\n",
       "         [0.3980],\n",
       "         [0.4120],\n",
       "         [0.4260]]),\n",
       " 50,\n",
       " 50)"
      ]
     },
     "execution_count": 2,
     "metadata": {},
     "output_type": "execute_result"
    }
   ],
   "source": [
    "# Create *known* parameters\n",
    "weight = 0.7\n",
    "bias = 0.3\n",
    "\n",
    "# Create\n",
    "start = 0\n",
    "end = 1\n",
    "step = 0.02\n",
    "X = torch.arange(start, end, step).unsqueeze(dim=1)\n",
    "y = weight * X + bias\n",
    "\n",
    "X[:10], y[:10], len(X), len(y)"
   ]
  },
  {
   "cell_type": "markdown",
   "metadata": {},
   "source": [
    "### Spliting data into training and testing"
   ]
  },
  {
   "cell_type": "code",
   "execution_count": 6,
   "metadata": {},
   "outputs": [],
   "source": [
    "# Create a train/test split\n",
    "train_split = int(0.8 * len(X))\n",
    "X_train, y_train = X[:train_split], y[:train_split]\n",
    "X_test, y_test = X[train_split:], y[train_split:]"
   ]
  },
  {
   "cell_type": "code",
   "execution_count": 7,
   "metadata": {},
   "outputs": [],
   "source": [
    "def plot_predictions(train_data=X_train,\n",
    "                     train_labels=y_train,\n",
    "                     test_data=X_test,\n",
    "                     test_labels=y_test,\n",
    "                     predictions=None):\n",
    "    \"\"\"\n",
    "    Plots training data, test data and compares predictions\n",
    "    \"\"\"\n",
    "    plt.figure(figsize=(10, 7))\n",
    "\n",
    "    # Plot training data in blue\n",
    "    plt.scatter(train_data, train_labels, c='b', s=4, label=\"Training data\")\n",
    "\n",
    "    # Plot test data in yellow\n",
    "    plt.scatter(test_data, test_labels, c='y', s=4, label=\"Test data\")\n",
    "\n",
    "    # Are there predictions?\n",
    "    if predictions is not None:\n",
    "        #Plot the predictions if they exist\n",
    "        plt.scatter(test_data, predictions, c='r', s=4, label=\"Predictios\")\n",
    "\n",
    "    # Show the legend\n",
    "    plt.legend(prop={\"size\": 14})"
   ]
  },
  {
   "cell_type": "markdown",
   "metadata": {},
   "source": [
    "## 2. Build model"
   ]
  },
  {
   "cell_type": "code",
   "execution_count": 8,
   "metadata": {},
   "outputs": [],
   "source": [
    "from torch import nn\n",
    "\n",
    "class LinearRegressionModel(nn.Module):\n",
    "    def __init__(self):\n",
    "        super().__init__()\n",
    "        self.weights = nn.Parameter(torch.randn(1,\n",
    "                                                requires_grad=True,\n",
    "                                                dtype=torch.float))\n",
    "        self.bias = nn.Parameter(torch.randn(1,\n",
    "                                                requires_grad=True,\n",
    "                                                dtype=torch.float))\n",
    "    \n",
    "    def forward(self, x: torch.Tensor) -> torch.Tensor:\n",
    "        return self.weights * x + self.bias"
   ]
  },
  {
   "cell_type": "markdown",
   "metadata": {},
   "source": [
    "### Pytorch model building essential\n",
    "\n",
    "* torch.nn contain all of the building for computational graphs (a neural network)\n",
    "* torch.nn.Parameter - what parameter should our model try and learn, often a Pytorch layer form torch.nn will set for us\n",
    "* torch.nn.Module - The base class for all neural network modules, you should override forward()\n",
    "* torch.optim - optimizers in Pytorch, help in gradient descent\n",
    "* def forward() - this method define what happen in the forward computation\n",
    "* torch.utils.data.Dataset\n",
    "* torch.utils.data.DataLoader\n",
    "* torchvision.transform"
   ]
  },
  {
   "cell_type": "code",
   "execution_count": 62,
   "metadata": {},
   "outputs": [
    {
     "data": {
      "text/plain": [
       "[Parameter containing:\n",
       " tensor([0.3367], requires_grad=True),\n",
       " Parameter containing:\n",
       " tensor([0.1288], requires_grad=True)]"
      ]
     },
     "execution_count": 62,
     "metadata": {},
     "output_type": "execute_result"
    }
   ],
   "source": [
    "torch.manual_seed(42)\n",
    "\n",
    "# Create an instance of the model\n",
    "model_0 = LinearRegressionModel()\n",
    "\n",
    "# Check the parameters\n",
    "list(model_0.parameters())"
   ]
  },
  {
   "cell_type": "code",
   "execution_count": 14,
   "metadata": {},
   "outputs": [
    {
     "data": {
      "text/plain": [
       "OrderedDict([('weights', tensor([0.3367])), ('bias', tensor([0.1288]))])"
      ]
     },
     "execution_count": 14,
     "metadata": {},
     "output_type": "execute_result"
    }
   ],
   "source": [
    "# List named parameters\n",
    "model_0.state_dict()"
   ]
  },
  {
   "cell_type": "markdown",
   "metadata": {},
   "source": [
    "### Making prediction with inferent mode"
   ]
  },
  {
   "cell_type": "code",
   "execution_count": 16,
   "metadata": {},
   "outputs": [
    {
     "data": {
      "text/plain": [
       "tensor([[0.3982],\n",
       "        [0.4049],\n",
       "        [0.4116],\n",
       "        [0.4184],\n",
       "        [0.4251],\n",
       "        [0.4318],\n",
       "        [0.4386],\n",
       "        [0.4453],\n",
       "        [0.4520],\n",
       "        [0.4588]])"
      ]
     },
     "execution_count": 16,
     "metadata": {},
     "output_type": "execute_result"
    }
   ],
   "source": [
    "# Make predictions with model\n",
    "with torch.inference_mode():\n",
    "    y_preds = model_0(X_test)\n",
    "\n",
    "y_preds"
   ]
  },
  {
   "cell_type": "code",
   "execution_count": 17,
   "metadata": {},
   "outputs": [
    {
     "data": {
      "image/png": "[encoded data removed]",
      "text/plain": [
       "<Figure size 1000x700 with 1 Axes>"
      ]
     },
     "metadata": {},
     "output_type": "display_data"
    }
   ],
   "source": [
    "plot_predictions(predictions=y_preds)"
   ]
  },
  {
   "cell_type": "markdown",
   "metadata": {},
   "source": [
    "## 3. Train model\n",
    "Make the model move from some random unknown parameters to some known parameters"
   ]
  },
  {
   "cell_type": "code",
   "execution_count": 64,
   "metadata": {},
   "outputs": [],
   "source": [
    "# set up a loss function\n",
    "loss_fn = nn.L1Loss()\n",
    "\n",
    "# set up an optimizer\n",
    "optimizer = torch.optim.SGD(params=model_0.parameters(),\n",
    "                            lr=0.01)"
   ]
  },
  {
   "cell_type": "markdown",
   "metadata": {},
   "source": [
    "### Building a training loop in Pytorch\n",
    "\n",
    "0. Loop through the data\n",
    "1. Forward pass (moving data though forward function) to make predictions on data\n",
    "2. Calculate the loss (compare the predictions and labels)\n",
    "3. Optimizer zero grad\n",
    "4. Loss backward - move backward through the network to calculate the gradients of each parameters with respect to the loss (backpropagation)\n",
    "5. Optimizer step - use the gradient to adjust our model's parameters to try and improve the loss (gradient descent)\n",
    "6. "
   ]
  },
  {
   "cell_type": "code",
   "execution_count": 65,
   "metadata": {},
   "outputs": [
    {
     "name": "stdout",
     "output_type": "stream",
     "text": [
      "Epoch: 9 | Loss: 0.20919232070446014 | Test loss: 0.3598262071609497\n",
      "OrderedDict([('weights', tensor([0.3757])), ('bias', tensor([0.2288]))])\n",
      "Epoch: 19 | Loss: 0.09681284427642822 | Test loss: 0.22817862033843994\n",
      "OrderedDict([('weights', tensor([0.4146])), ('bias', tensor([0.3258]))])\n",
      "Epoch: 29 | Loss: 0.0545857772231102 | Test loss: 0.14967669546604156\n",
      "OrderedDict([('weights', tensor([0.4483])), ('bias', tensor([0.3743]))])\n",
      "Epoch: 39 | Loss: 0.04591871052980423 | Test loss: 0.11538954079151154\n",
      "OrderedDict([('weights', tensor([0.4728])), ('bias', tensor([0.3868]))])\n",
      "Epoch: 49 | Loss: 0.04202762991189957 | Test loss: 0.10030148178339005\n",
      "OrderedDict([('weights', tensor([0.4920])), ('bias', tensor([0.3848]))])\n",
      "Epoch: 59 | Loss: 0.0385376438498497 | Test loss: 0.08928143978118896\n",
      "OrderedDict([('weights', tensor([0.5100])), ('bias', tensor([0.3798]))])\n",
      "Epoch: 69 | Loss: 0.035098835825920105 | Test loss: 0.0810088962316513\n",
      "OrderedDict([('weights', tensor([0.5272])), ('bias', tensor([0.3728]))])\n",
      "Epoch: 79 | Loss: 0.03166864812374115 | Test loss: 0.07342323660850525\n",
      "OrderedDict([('weights', tensor([0.5441])), ('bias', tensor([0.3653]))])\n",
      "Epoch: 89 | Loss: 0.028234025463461876 | Test loss: 0.06515069305896759\n",
      "OrderedDict([('weights', tensor([0.5613])), ('bias', tensor([0.3583]))])\n",
      "Epoch: 99 | Loss: 0.02479521557688713 | Test loss: 0.05687814950942993\n",
      "OrderedDict([('weights', tensor([0.5784])), ('bias', tensor([0.3513]))])\n",
      "Epoch: 109 | Loss: 0.021366719156503677 | Test loss: 0.04929249361157417\n",
      "OrderedDict([('weights', tensor([0.5954])), ('bias', tensor([0.3438]))])\n",
      "Epoch: 119 | Loss: 0.017930403351783752 | Test loss: 0.04101995751261711\n",
      "OrderedDict([('weights', tensor([0.6126])), ('bias', tensor([0.3368]))])\n",
      "Epoch: 129 | Loss: 0.01449323259294033 | Test loss: 0.03343429043889046\n",
      "OrderedDict([('weights', tensor([0.6295])), ('bias', tensor([0.3293]))])\n",
      "Epoch: 139 | Loss: 0.011064787395298481 | Test loss: 0.025161748751997948\n",
      "OrderedDict([('weights', tensor([0.6467])), ('bias', tensor([0.3223]))])\n",
      "Epoch: 149 | Loss: 0.007626785431057215 | Test loss: 0.016889220103621483\n",
      "OrderedDict([('weights', tensor([0.6638])), ('bias', tensor([0.3153]))])\n",
      "Epoch: 159 | Loss: 0.00419129803776741 | Test loss: 0.009303552098572254\n",
      "OrderedDict([('weights', tensor([0.6808])), ('bias', tensor([0.3078]))])\n",
      "Epoch: 169 | Loss: 0.0025885067880153656 | Test loss: 0.008447891101241112\n",
      "OrderedDict([('weights', tensor([0.6990])), ('bias', tensor([0.3093]))])\n",
      "Epoch: 179 | Loss: 0.0025885067880153656 | Test loss: 0.008447891101241112\n",
      "OrderedDict([('weights', tensor([0.6990])), ('bias', tensor([0.3093]))])\n",
      "Epoch: 189 | Loss: 0.0025885067880153656 | Test loss: 0.008447891101241112\n",
      "OrderedDict([('weights', tensor([0.6990])), ('bias', tensor([0.3093]))])\n",
      "Epoch: 199 | Loss: 0.0025885067880153656 | Test loss: 0.008447891101241112\n",
      "OrderedDict([('weights', tensor([0.6990])), ('bias', tensor([0.3093]))])\n"
     ]
    }
   ],
   "source": [
    "# An epochs is one loop through the data\n",
    "torch.manual_seed(42)\n",
    "epochs = 200\n",
    "\n",
    "# Track values\n",
    "epochs_count = []\n",
    "loss_values = []\n",
    "test_loss_values = []\n",
    "\n",
    "# 0. Loop through the data\n",
    "for epoch in range(epochs):\n",
    "    # Set the model to training mode\n",
    "    model_0.train() # sets all parameters that required gradients to required gradients\n",
    "    \n",
    "    # 1. Forward pass\n",
    "    y_pred = model_0(X_train)\n",
    "    \n",
    "    # 2. Calculate the loss\n",
    "    loss = loss_fn(y_pred, y_train)\n",
    "    \n",
    "    # 3. Optimizer zero grad\n",
    "    optimizer.zero_grad()\n",
    "    \n",
    "    # 4. Loss backward (back propagation)\n",
    "    loss.backward()\n",
    "    \n",
    "    # 5. Step the optimizer\n",
    "    optimizer.step()\n",
    "    \n",
    "    ### Testing\n",
    "    model_0.eval() # turns off different setting in the model not needed for evaluation\n",
    "    with torch.inference_mode():\n",
    "        # 1. Do the forward pass\n",
    "        test_pred = model_0(X_test)\n",
    "        \n",
    "        # 2. Calculate the loss\n",
    "        test_loss = loss_fn(test_pred, y_test)\n",
    "    if epoch % 10 == 9:\n",
    "        epochs_count.append(epoch)\n",
    "        loss_values.append(loss)\n",
    "        test_loss_values.append(test_loss)\n",
    "        print(f\"Epoch: {epoch} | Loss: {loss} | Test loss: {test_loss}\")\n",
    "        \n",
    "        print(model_0.state_dict())\n",
    "        \n",
    "    "
   ]
  },
  {
   "cell_type": "code",
   "execution_count": 66,
   "metadata": {},
   "outputs": [
    {
     "data": {
      "image/png": "[encoded data removed]",
      "text/plain": [
       "<Figure size 1000x700 with 1 Axes>"
      ]
     },
     "metadata": {},
     "output_type": "display_data"
    }
   ],
   "source": [
    "with torch.inference_mode():\n",
    "    y_preds1 = model_0(X_test)\n",
    "plot_predictions(predictions=y_preds1)"
   ]
  },
  {
   "cell_type": "code",
   "execution_count": 68,
   "metadata": {},
   "outputs": [
    {
     "data": {
      "text/plain": [
       "<matplotlib.legend.Legend at 0x2346a05b150>"
      ]
     },
     "execution_count": 68,
     "metadata": {},
     "output_type": "execute_result"
    },
    {
     "data": {
      "image/png": "[encoded data removed]",
      "text/plain": [
       "<Figure size 640x480 with 1 Axes>"
      ]
     },
     "metadata": {},
     "output_type": "display_data"
    }
   ],
   "source": [
    "# plot the loss curve\n",
    "import numpy as np\n",
    "plt.plot(epochs_count, np.array(torch.tensor(loss_values).numpy()), label=\"Train loss\")\n",
    "plt.plot(epochs_count, test_loss_values, label=\"Test loss\")\n",
    "plt.xlabel(\"Number of epoch\")\n",
    "plt.ylabel(\"Loss\")\n",
    "plt.title(\"Training and test loss curves\")\n",
    "plt.legend()"
   ]
  },
  {
   "cell_type": "markdown",
   "metadata": {},
   "source": [
    "## Saving a model in Pytorch\n",
    "\n",
    "* torch.save() - save pytorch model in pickle format\n",
    "* torch.load() - load a saved pytorch object\n",
    "* torch.nn.Module.load_state_dict() - load a model's saved state dictionary"
   ]
  },
  {
   "cell_type": "code",
   "execution_count": 71,
   "metadata": {},
   "outputs": [
    {
     "name": "stdout",
     "output_type": "stream",
     "text": [
      "Saving model to models\\01_pytorch_workflow_model_0.pth\n"
     ]
    }
   ],
   "source": [
    "from pathlib import Path\n",
    "\n",
    "# 1. Create model directory\n",
    "MODEL_PATH = Path(\"models\")\n",
    "MODEL_PATH.mkdir(parents=True, exist_ok=True)\n",
    "\n",
    "# 2. Create model save path\n",
    "MODEL_NAME = \"01_pytorch_workflow_model_0.pth\"\n",
    "MODEL_SAVE_PATH = MODEL_PATH / MODEL_NAME\n",
    "\n",
    "# 3. Save the model state dict\n",
    "print(f\"Saving model to {MODEL_SAVE_PATH}\")\n",
    "torch.save(obj=model_0.state_dict(),\n",
    "           f=MODEL_SAVE_PATH)"
   ]
  },
  {
   "cell_type": "markdown",
   "metadata": {},
   "source": [
    "## Loading a Pytorch Model\n",
    "\n",
    "Since we save just the state dict rather than the entire model, we need to create a new instance of the model class again"
   ]
  },
  {
   "cell_type": "code",
   "execution_count": 72,
   "metadata": {},
   "outputs": [
    {
     "data": {
      "text/plain": [
       "OrderedDict([('weights', tensor([0.6990])), ('bias', tensor([0.3093]))])"
      ]
     },
     "execution_count": 72,
     "metadata": {},
     "output_type": "execute_result"
    }
   ],
   "source": [
    "# Instantiate new instance of model class\n",
    "loaded_model_0 = LinearRegressionModel()\n",
    "\n",
    "# Load the saved state_dict of model_0\n",
    "loaded_model_0.load_state_dict(torch.load(f=MODEL_SAVE_PATH))\n",
    "\n",
    "loaded_model_0.state_dict()"
   ]
  },
  {
   "cell_type": "code",
   "execution_count": 73,
   "metadata": {},
   "outputs": [],
   "source": [
    "class LinearRegressionModelV2(nn.Module):\n",
    "    def __init__(self):\n",
    "        super().__init__()\n",
    "        self.linear_layer = nn.Linear(in_features=1,\n",
    "                                      out_features=1)\n",
    "    \n",
    "    def forward(self, x: torch.Tensor) -> torch.Tensor:\n",
    "        return self.linear_layer(x)"
   ]
  },
  {
   "cell_type": "code",
   "execution_count": 75,
   "metadata": {},
   "outputs": [],
   "source": [
    "model_1 = LinearRegressionModelV2()"
   ]
  },
  {
   "cell_type": "code",
   "execution_count": 74,
   "metadata": {},
   "outputs": [
    {
     "data": {
      "text/plain": [
       "'cuda'"
      ]
     },
     "execution_count": 74,
     "metadata": {},
     "output_type": "execute_result"
    }
   ],
   "source": [
    "\n",
    "# Set the model to use the target device\n",
    "device = \"cuda\" if torch.cuda.is_available() else \"cpu\"\n",
    "device"
   ]
  },
  {
   "cell_type": "code",
   "execution_count": 76,
   "metadata": {},
   "outputs": [
    {
     "data": {
      "text/plain": [
       "device(type='cuda', index=0)"
      ]
     },
     "execution_count": 76,
     "metadata": {},
     "output_type": "execute_result"
    }
   ],
   "source": [
    "model_1.to(device)\n",
    "next(model_1.parameters()).device"
   ]
  },
  {
   "cell_type": "code",
   "execution_count": 77,
   "metadata": {},
   "outputs": [
    {
     "data": {
      "text/plain": [
       "OrderedDict([('linear_layer.weight', tensor([[-0.2191]], device='cuda:0')),\n",
       "             ('linear_layer.bias', tensor([0.2018], device='cuda:0'))])"
      ]
     },
     "execution_count": 77,
     "metadata": {},
     "output_type": "execute_result"
    }
   ],
   "source": [
    "model_1.state_dict()"
   ]
  },
  {
   "cell_type": "code",
   "execution_count": 78,
   "metadata": {},
   "outputs": [],
   "source": [
    "# Set up loss function\n",
    "loss_fn = nn.L1Loss()\n",
    "\n",
    "# Setup optimizer\n",
    "optimizer = torch.optim.SGD(lr=0.01,\n",
    "                            params=model_1.parameters())"
   ]
  },
  {
   "cell_type": "code",
   "execution_count": 80,
   "metadata": {},
   "outputs": [
    {
     "name": "stdout",
     "output_type": "stream",
     "text": [
      "Epoch: 0 | Loss: 0.4566597044467926 | Test loss: 0.902740478515625\n",
      "Epoch: 10 | Loss: 0.3415392339229584 | Test loss: 0.7685304880142212\n",
      "Epoch: 20 | Loss: 0.2548103630542755 | Test loss: 0.6518100500106812\n",
      "Epoch: 30 | Loss: 0.20335502922534943 | Test loss: 0.5596543550491333\n",
      "Epoch: 40 | Loss: 0.17333531379699707 | Test loss: 0.4878644049167633\n",
      "Epoch: 50 | Loss: 0.15608887374401093 | Test loss: 0.4337606430053711\n",
      "Epoch: 60 | Loss: 0.14575019478797913 | Test loss: 0.3929426968097687\n",
      "Epoch: 70 | Loss: 0.13897858560085297 | Test loss: 0.36251887679100037\n",
      "Epoch: 80 | Loss: 0.13399271667003632 | Test loss: 0.3386967182159424\n",
      "Epoch: 90 | Loss: 0.12999270856380463 | Test loss: 0.320896714925766\n",
      "Epoch: 100 | Loss: 0.1262269765138626 | Test loss: 0.3064868450164795\n",
      "Epoch: 110 | Loss: 0.12273695319890976 | Test loss: 0.2954670786857605\n",
      "Epoch: 120 | Loss: 0.1192469522356987 | Test loss: 0.2844472825527191\n",
      "Epoch: 130 | Loss: 0.11575694382190704 | Test loss: 0.2734275460243225\n",
      "Epoch: 140 | Loss: 0.1122669205069542 | Test loss: 0.26240774989128113\n",
      "Epoch: 150 | Loss: 0.10881531238555908 | Test loss: 0.25344857573509216\n",
      "Epoch: 160 | Loss: 0.10538208484649658 | Test loss: 0.2458631545305252\n",
      "Epoch: 170 | Loss: 0.101950503885746 | Test loss: 0.23759081959724426\n",
      "Epoch: 180 | Loss: 0.0985117107629776 | Test loss: 0.2293184995651245\n",
      "Epoch: 190 | Loss: 0.09508013725280762 | Test loss: 0.22173304855823517\n"
     ]
    }
   ],
   "source": [
    "torch.manual_seed(42)\n",
    "\n",
    "epochs = 200\n",
    "# put data in the target device\n",
    "X_train = X_train.to(device)\n",
    "y_train = y_train.to(device)\n",
    "X_test = X_test.to(device)\n",
    "y_test = y_test.to(device)\n",
    "\n",
    "for epoch in range(epochs):\n",
    "    model_1.train()\n",
    "    \n",
    "    # 1. Forward\n",
    "    y_pred = model_1(X_train)\n",
    "    \n",
    "    # 2. calucate loss\n",
    "    loss = loss_fn(y_pred, y_train)\n",
    "    \n",
    "    # 3. Optimizer zero grad\n",
    "    optimizer.zero_grad()\n",
    "    \n",
    "    # 4. Loss backward\n",
    "    loss.backward()\n",
    "    \n",
    "    # 5. Optimzer step\n",
    "    optimizer.step()\n",
    "    \n",
    "    ### Testing\n",
    "    model_1.eval()\n",
    "    \n",
    "    with torch.inference_mode():\n",
    "        test_pred = model_1(X_test)\n",
    "        \n",
    "        test_loss = loss_fn(test_pred, y_test)\n",
    "    \n",
    "    # Print out\n",
    "    if epoch % 10 == 0:\n",
    "        print(f\"Epoch: {epoch} | Loss: {loss} | Test loss: {test_loss}\")"
   ]
  },
  {
   "cell_type": "code",
   "execution_count": 81,
   "metadata": {},
   "outputs": [
    {
     "data": {
      "text/plain": [
       "OrderedDict([('linear_layer.weight', tensor([[0.2440]], device='cuda:0')),\n",
       "             ('linear_layer.bias', tensor([0.4913], device='cuda:0'))])"
      ]
     },
     "execution_count": 81,
     "metadata": {},
     "output_type": "execute_result"
    }
   ],
   "source": [
    "model_1.state_dict()"
   ]
  },
  {
   "cell_type": "code",
   "execution_count": null,
   "metadata": {},
   "outputs": [],
   "source": []
  }
 ],
 "metadata": {
  "kernelspec": {
   "display_name": "Face-mask-detection-env",
   "language": "python",
   "name": "python3"
  },
  "language_info": {
   "codemirror_mode": {
    "name": "ipython",
    "version": 3
   },
   "file_extension": ".py",
   "mimetype": "text/x-python",
   "name": "python",
   "nbconvert_exporter": "python",
   "pygments_lexer": "ipython3",
   "version": "3.11.8"
  }
 },
 "nbformat": 4,
 "nbformat_minor": 2
}
